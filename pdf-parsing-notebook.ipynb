{
 "cells": [
  {
   "cell_type": "markdown",
   "metadata": {},
   "source": [
    "# Import Library"
   ]
  },
  {
   "cell_type": "code",
   "execution_count": null,
   "metadata": {},
   "outputs": [],
   "source": [
    "import os\n",
    "import re\n",
    "import sys\n",
    "import timeit\n",
    "import json\n",
    "import pymupdf\n",
    "import psycopg2\n",
    "import pandas as pd\n",
    "from pandas import DataFrame\n",
    "from pathlib import Path\n",
    "import requests\n",
    "import logging\n",
    "import os\n",
    "import datetime\n",
    "import time\n",
    "import psutil\n",
    "from io import StringIO\n",
    "from setuptools.namespaces import flatten\n",
    "from IPython.display import clear_output"
   ]
  },
  {
   "cell_type": "code",
   "execution_count": null,
   "metadata": {},
   "outputs": [],
   "source": [
    "print(sys.path)"
   ]
  },
  {
   "cell_type": "code",
   "execution_count": null,
   "metadata": {},
   "outputs": [],
   "source": [
    "!ls\n",
    "os.getcwd()"
   ]
  },
  {
   "cell_type": "code",
   "execution_count": null,
   "metadata": {},
   "outputs": [],
   "source": [
    "file_path = '/Users/op-eq-0668/Desktop/PDFtoText/shipping_label.csv'"
   ]
  },
  {
   "cell_type": "code",
   "execution_count": null,
   "metadata": {},
   "outputs": [],
   "source": [
    "df = pd.read_csv(file_path)\n",
    "df_0 = df.drop(['inserted_at'], axis = 1)\n",
    "df_0"
   ]
  },
  {
   "cell_type": "code",
   "execution_count": null,
   "metadata": {},
   "outputs": [],
   "source": [
    "order_id_items = []\n",
    "items = list(df_0['order_no'])\n",
    "for item in items:\n",
    "    order_item = item.split('-')[-1]\n",
    "    order_id_items.append(order_item)"
   ]
  },
  {
   "cell_type": "code",
   "execution_count": null,
   "metadata": {},
   "outputs": [],
   "source": [
    "df_0.count()"
   ]
  },
  {
   "cell_type": "code",
   "execution_count": null,
   "metadata": {},
   "outputs": [],
   "source": [
    "df_0.count()"
   ]
  },
  {
   "cell_type": "code",
   "execution_count": null,
   "metadata": {},
   "outputs": [],
   "source": [
    "df_1 = pd.DataFrame(list(zip(order_id_items, file_list)), columns=['order_id', 'file_url'])\n",
    "dict_1 = df_1.to_dict(orient='records')\n",
    "dict_2 = {x['file_url'].split('/')[-1]:x['order_id'] for x in dict_1}\n",
    "dict_3 = {x['file_url'].split('/')[-1]:x['file_url'] for x in dict_1}\n"
   ]
  },
  {
   "cell_type": "markdown",
   "metadata": {},
   "source": [
    "# Download PDFs from list of URLs"
   ]
  },
  {
   "cell_type": "code",
   "execution_count": null,
   "metadata": {},
   "outputs": [],
   "source": [
    "start = timeit.default_timer()\n",
    "count = 0\n",
    "for file in file_list:\n",
    "    file_name = file.split('/')[-1]\n",
    "    day = file.split('/')[6]\n",
    "    month = file.split('/')[5]\n",
    "    year = file.split('/')[4]\n",
    "    response = requests.get(file)\n",
    "    path = Path(f'/Users/op-eq-0668/Desktop/PDFtoText/Shopee/{year}/{month}/{day}')\n",
    "    path.mkdir(parents=True, exist_ok=True)\n",
    "    with open(f'/Users/op-eq-0668/Desktop/PDFtoText/Shopee/{year}/{month}/{day}/' + file_name, 'wb') as f:\n",
    "      clear_output()\n",
    "      count = count + 1\n",
    "      f.write(response.content)\n",
    "      print(f'Downloading progess: {count}/{len(file_list)} - {count*100.0/len(file_list)}%')    \n",
    "stop = timeit.default_timer()\n",
    "runtime = str(datetime.timedelta(seconds=(stop - start)))\n",
    "print('Download time:', runtime)\n",
    "\n",
    "#Resource Monitor\n",
    "pid = os.getpid()\n",
    "python_process = psutil.Process(pid)\n",
    "memory_use = python_process.memory_info()[0]/2.**30\n",
    "cpu_use = python_process.cpu_percent\n",
    "print('Memory Use:', memory_use, 'Gb')\n",
    "print('CPU Use:', cpu_use)"
   ]
  },
  {
   "cell_type": "markdown",
   "metadata": {},
   "source": [
    "# Extract Data from PDFs"
   ]
  },
  {
   "cell_type": "code",
   "execution_count": null,
   "metadata": {},
   "outputs": [],
   "source": [
    "start = timeit.default_timer()\n",
    "result = []\n",
    "count = 0\n",
    "for year in os.listdir(Path(f'/Users/op-eq-0668/Desktop/PDFtoText/Shopee/')):\n",
    "  for month in os.listdir(Path(f'/Users/op-eq-0668/Desktop/PDFtoText/Shopee/{year}')):\n",
    "    for day in os.listdir(Path(f'/Users/op-eq-0668/Desktop/PDFtoText/Shopee/{year}/{month}')):\n",
    "      for file_name in os.listdir(Path(f'/Users/op-eq-0668/Desktop/PDFtoText/Shopee/{year}/{month}/{day}')):\n",
    "        clear_output()\n",
    "        count = count + 1\n",
    "        print(f'Processing progess: {count}/{len(file_list)} - {count*100.0/len(file_list)}%')\n",
    "\n",
    "        file_result = {'Billing_date': f'{day}/{month}/{year}', 'order_id':dict_2[file_name]}\n",
    "        with pymupdf.open(f'/Users/op-eq-0668/Desktop/PDFtoText/Shopee/{year}/{month}/{day}/{file_name}') as doc:\n",
    "          cells = []\n",
    "          for page in doc:\n",
    "            for table in page.find_tables().tables:\n",
    "              for tb in table.extract(strategy=\"lines_strict\"):\n",
    "                for cell in list(filter(lambda x: x and x != \"\", tb)):\n",
    "                  cells.append(cell)\n",
    "\n",
    "        for cell in cells:\n",
    "          file_result['file_url'] = dict_3[file_name]\n",
    "          if 'Mã đơn hàng:' in cell:\n",
    "            file_result['OrderID'] = cell.split(': ')[-1]\n",
    "          if \"Đến:\" in cell:\n",
    "            receiver = cell.split('\\n')\n",
    "            match_phone_no = re.search(r\"[^a-z A-Z,]+\", receiver[2]).group()\n",
    "            if receiver[2] == match_phone_no:\n",
    "              file_result['phone_number'] = match_phone_no\n",
    "              receiver_address = \" \".join(receiver[3:]).split(\", \")\n",
    "            else:\n",
    "              file_result['phone_number'] = '-'\n",
    "              receiver_address = \" \".join(receiver[2:]).split(\", \")\n",
    "            file_result['receiver_name'] = receiver[1]\n",
    "            file_result['receiver_address'] = {\n",
    "                'street': ', '.join(receiver_address[0:-3]),\n",
    "                'ward': receiver_address[-3],\n",
    "                'district': receiver_address[-2],\n",
    "                'city': receiver_address[-1]\n",
    "            }\n",
    "        result.append(file_result)\n",
    "\n",
    "stop = timeit.default_timer()\n",
    "extract_runtime = str(datetime.timedelta(seconds=(stop - start)))\n",
    "print('Extract time:', extract_runtime)\n",
    "\n",
    "#Resource Monitor\n",
    "pid = os.getpid()\n",
    "python_process = psutil.Process(pid)\n",
    "memory_use = python_process.memory_info()[0]/2.**30\n",
    "cpu_use = python_process.cpu_percent\n",
    "print('Memory Use:', memory_use, 'Gb')\n",
    "print('CPU Use:', cpu_use)"
   ]
  },
  {
   "cell_type": "markdown",
   "metadata": {},
   "source": [
    "# Export raw data to JSON"
   ]
  },
  {
   "cell_type": "code",
   "execution_count": null,
   "metadata": {},
   "outputs": [],
   "source": [
    "raw_data = json.dumps(result, indent = 2)\n",
    "with open('raw_data.json', 'w', encoding ='utf-8') as f:\n",
    "    f.write(raw_data)"
   ]
  },
  {
   "cell_type": "markdown",
   "metadata": {},
   "source": [
    "# Transform Data"
   ]
  },
  {
   "cell_type": "code",
   "execution_count": null,
   "metadata": {},
   "outputs": [],
   "source": [
    "try:\n",
    "    monitor_time = str(datetime.datetime.now())\n",
    "    created_at = str(datetime.datetime.now())\n",
    "    updated_at = str(datetime.datetime.now())\n",
    "    platform = 'SHOPEE'\n",
    "    final = []\n",
    "    f = open('/Users/op-eq-0668/Desktop/PDFtoText/raw_data.json')\n",
    "    records = json.load(f)\n",
    "    for record in records:\n",
    "        record = {\n",
    "            'order_id': record.get('order_id'),\n",
    "            'label_order_id': record.get('OrderID'),\n",
    "            'platform': platform,\n",
    "            'file_url': record.get('file_url'),\n",
    "            'billing_date': record.get('Billing_date'),\n",
    "            'receiver_name' : record.get('receiver_name'),\n",
    "            'phone_number': record.get('phone_number'),\n",
    "            'street_name': record.get('receiver_address').get('street'),\n",
    "            'ward': record.get('receiver_address').get('ward'),\n",
    "            'district': record.get('receiver_address').get('district'),\n",
    "            'city': record.get('receiver_address').get('city'),\n",
    "            'monitor_time' : monitor_time,\n",
    "            'created_at': created_at,\n",
    "            'updated_at': updated_at\n",
    "        }\n",
    "        final.append(record)\n",
    "except Exception as e:\n",
    "    logging.exception(e)"
   ]
  },
  {
   "cell_type": "markdown",
   "metadata": {},
   "source": [
    "# Export transformed data to JSON"
   ]
  },
  {
   "cell_type": "code",
   "execution_count": null,
   "metadata": {},
   "outputs": [],
   "source": [
    "raw_data = json.dumps(final, indent = 2)\n",
    "with open('final.json', 'w', encoding ='utf-8') as f:\n",
    "    f.write(raw_data)"
   ]
  },
  {
   "cell_type": "code",
   "execution_count": null,
   "metadata": {},
   "outputs": [],
   "source": [
    "df_final = pd.DataFrame(final)\n",
    "df_final"
   ]
  },
  {
   "cell_type": "markdown",
   "metadata": {},
   "source": [
    "# Load into DB"
   ]
  },
  {
   "cell_type": "code",
   "execution_count": null,
   "metadata": {},
   "outputs": [],
   "source": [
    "# DB_NAME = 'athena_warehouse'\n",
    "# DB_USER = 'congminh'\n",
    "# DB_PASS = '534E17wVWyt2'\n",
    "# DB_HOST = 'athena-uat.cybjleasxg2d.ap-southeast-1.rds.amazonaws.com'\n",
    "# DB_PORT = '5432'\n",
    "\n",
    "conn = psycopg2.connect(database=DB_NAME,\n",
    "                        user=DB_USER,\n",
    "                        password=DB_PASS,\n",
    "                        host=DB_HOST,\n",
    "                        port=DB_PORT)\n",
    "\n",
    "print('Successfully connect to database!')\n",
    "\n",
    "start_time = time.time()\n",
    "sio = StringIO()\n",
    "df_final.to_csv(sio, index=None, header=None)\n",
    "sio.seek(0)\n",
    "with conn.cursor() as c:\n",
    "    c.copy_expert(\n",
    "        sql=\"\"\"\n",
    "        DELETE FROM athena_warehouse.spe_shipping_label_address_parse;\n",
    "\n",
    "        COPY athena_warehouse.spe_shipping_label_address_parse (\n",
    "            order_id,\n",
    "            label_order_id,\n",
    "            platform,\n",
    "            file_url,\n",
    "\t        billing_date,\n",
    "\t        receiver_name,\n",
    "            phone_number,\n",
    "\t        street_name,\n",
    "\t        ward,\n",
    "\t        district,\n",
    "\t        city,\n",
    "\t        monitor_time,\n",
    "\t        created_at,\n",
    "\t        updated_at\n",
    "            ) FROM STDIN WITH CSV\"\"\",\n",
    "        file=sio\n",
    "    )\n",
    "    conn.commit()\n",
    "\n",
    "end_time = time.time()\n",
    "total_time = end_time - start_time\n",
    "print(f\"Insert time: {total_time} seconds\")"
   ]
  }
 ],
 "metadata": {
  "kernelspec": {
   "display_name": "Python 3",
   "language": "python",
   "name": "python3"
  },
  "language_info": {
   "name": "python",
   "version": "3.9.6"
  }
 },
 "nbformat": 4,
 "nbformat_minor": 2
}
