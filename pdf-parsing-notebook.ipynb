{
 "cells": [
  {
   "cell_type": "markdown",
   "metadata": {},
   "source": [
    "# Import Library"
   ]
  },
  {
   "cell_type": "code",
   "execution_count": 1,
   "metadata": {},
   "outputs": [],
   "source": [
    "import os\n",
    "import re\n",
    "import sys\n",
    "import timeit\n",
    "import json\n",
    "import pymupdf\n",
    "import psycopg2\n",
    "import pandas as pd\n",
    "from pandas import DataFrame\n",
    "from pathlib import Path\n",
    "import requests\n",
    "import logging\n",
    "import os\n",
    "import datetime\n",
    "import time\n",
    "import psutil\n",
    "from io import StringIO\n",
    "from setuptools.namespaces import flatten\n",
    "from IPython.display import clear_output"
   ]
  },
  {
   "cell_type": "code",
   "execution_count": 2,
   "metadata": {},
   "outputs": [
    {
     "name": "stdout",
     "output_type": "stream",
     "text": [
      "['/opt/homebrew/Cellar/python@3.13/3.13.0_1/Frameworks/Python.framework/Versions/3.13/lib/python313.zip', '/opt/homebrew/Cellar/python@3.13/3.13.0_1/Frameworks/Python.framework/Versions/3.13/lib/python3.13', '/opt/homebrew/Cellar/python@3.13/3.13.0_1/Frameworks/Python.framework/Versions/3.13/lib/python3.13/lib-dynload', '', '/Users/mac/Documents/Documents - Minh Nguyen/GitHub/PDF-Label-Parsing-with-PyMuPDF/.venv/lib/python3.13/site-packages', '/Users/mac/Documents/Documents - Minh Nguyen/GitHub/PDF-Label-Parsing-with-PyMuPDF/.venv/lib/python3.13/site-packages/setuptools/_vendor']\n"
     ]
    }
   ],
   "source": [
    "print(sys.path)"
   ]
  },
  {
   "cell_type": "code",
   "execution_count": 3,
   "metadata": {},
   "outputs": [
    {
     "name": "stdout",
     "output_type": "stream",
     "text": [
      "\u001b[34mcore\u001b[m\u001b[m                       requirements.txt\n",
      "libraries.txt              shipping_label.csv\n",
      "pdf-parsing-notebook.ipynb \u001b[34mtask-script\u001b[m\u001b[m\n"
     ]
    },
    {
     "data": {
      "text/plain": [
       "'/Users/mac/Documents/Documents - Minh Nguyen/GitHub/PDF-Label-Parsing-with-PyMuPDF'"
      ]
     },
     "execution_count": 3,
     "metadata": {},
     "output_type": "execute_result"
    }
   ],
   "source": [
    "!ls\n",
    "os.getcwd()"
   ]
  },
  {
   "cell_type": "code",
   "execution_count": 4,
   "metadata": {},
   "outputs": [],
   "source": [
    "file_path = '/Users/mac/Documents/Documents - Minh Nguyen/GitHub/PDF-Label-Parsing-with-PyMuPDF/shipping_label.csv'"
   ]
  },
  {
   "cell_type": "code",
   "execution_count": 5,
   "metadata": {},
   "outputs": [
    {
     "data": {
      "text/html": [
       "<div>\n",
       "<style scoped>\n",
       "    .dataframe tbody tr th:only-of-type {\n",
       "        vertical-align: middle;\n",
       "    }\n",
       "\n",
       "    .dataframe tbody tr th {\n",
       "        vertical-align: top;\n",
       "    }\n",
       "\n",
       "    .dataframe thead th {\n",
       "        text-align: right;\n",
       "    }\n",
       "</style>\n",
       "<table border=\"1\" class=\"dataframe\">\n",
       "  <thead>\n",
       "    <tr style=\"text-align: right;\">\n",
       "      <th></th>\n",
       "      <th>platform_name</th>\n",
       "      <th>delivery_platform</th>\n",
       "      <th>delivery_tracking_number</th>\n",
       "      <th>order_id</th>\n",
       "      <th>order_no</th>\n",
       "      <th>external_order_no</th>\n",
       "      <th>shipping_label</th>\n",
       "    </tr>\n",
       "  </thead>\n",
       "  <tbody>\n",
       "    <tr>\n",
       "      <th>0</th>\n",
       "      <td>Shopee</td>\n",
       "      <td>Giao Hàng Nhanh</td>\n",
       "      <td>G8PG68DW</td>\n",
       "      <td>16033053</td>\n",
       "      <td>SPEJNJ-240423GDTCSH56</td>\n",
       "      <td>SPEJNJ-240423GDTCSH56</td>\n",
       "      <td>https://files.onpoint.vn/order/2024/04/23/8667...</td>\n",
       "    </tr>\n",
       "    <tr>\n",
       "      <th>1</th>\n",
       "      <td>Shopee</td>\n",
       "      <td>SPX Express</td>\n",
       "      <td>SPXVN047044006034</td>\n",
       "      <td>16032662</td>\n",
       "      <td>SPEJNJ-240423GBDEC0XM</td>\n",
       "      <td>SPEJNJ-240423GBDEC0XM</td>\n",
       "      <td>https://files.onpoint.vn/order/2024/04/23/1869...</td>\n",
       "    </tr>\n",
       "    <tr>\n",
       "      <th>2</th>\n",
       "      <td>Shopee</td>\n",
       "      <td>Giao Hàng Nhanh</td>\n",
       "      <td>G8PG9QNK</td>\n",
       "      <td>16032417</td>\n",
       "      <td>SPECSC-240423GA23PYAJ</td>\n",
       "      <td>SPECSC-240423GA23PYAJ</td>\n",
       "      <td>https://files.onpoint.vn/order/2024/04/23/5646...</td>\n",
       "    </tr>\n",
       "    <tr>\n",
       "      <th>3</th>\n",
       "      <td>Shopee</td>\n",
       "      <td>Giao Hàng Nhanh</td>\n",
       "      <td>G8PG9PX4</td>\n",
       "      <td>16032195</td>\n",
       "      <td>SPECSC-240423G92X6K4G</td>\n",
       "      <td>SPECSC-240423G92X6K4G</td>\n",
       "      <td>https://files.onpoint.vn/order/2024/04/23/8805...</td>\n",
       "    </tr>\n",
       "    <tr>\n",
       "      <th>4</th>\n",
       "      <td>Shopee</td>\n",
       "      <td>Giao Hàng Nhanh</td>\n",
       "      <td>G8PG7HWG</td>\n",
       "      <td>16031437</td>\n",
       "      <td>SPEUIM-240423G697MDT4</td>\n",
       "      <td>SPEUIM-240423G697MDT4</td>\n",
       "      <td>https://files.onpoint.vn/order/2024/04/23/1101...</td>\n",
       "    </tr>\n",
       "    <tr>\n",
       "      <th>...</th>\n",
       "      <td>...</td>\n",
       "      <td>...</td>\n",
       "      <td>...</td>\n",
       "      <td>...</td>\n",
       "      <td>...</td>\n",
       "      <td>...</td>\n",
       "      <td>...</td>\n",
       "    </tr>\n",
       "    <tr>\n",
       "      <th>995</th>\n",
       "      <td>Shopee</td>\n",
       "      <td>Giao Hàng Nhanh</td>\n",
       "      <td>G8DTBU3T</td>\n",
       "      <td>15695256</td>\n",
       "      <td>SPESDP-240411FD6M6KUT</td>\n",
       "      <td>SPESDP-240411FD6M6KUT</td>\n",
       "      <td>https://files.onpoint.vn/order/2024/04/11/4516...</td>\n",
       "    </tr>\n",
       "    <tr>\n",
       "      <th>996</th>\n",
       "      <td>Shopee</td>\n",
       "      <td>SPX Express</td>\n",
       "      <td>SPXVN041469733864</td>\n",
       "      <td>15695249</td>\n",
       "      <td>SPEBRT-240411FD598RCG</td>\n",
       "      <td>SPEBRT-240411FD598RCG</td>\n",
       "      <td>https://files.onpoint.vn/order/2024/04/11/2137...</td>\n",
       "    </tr>\n",
       "    <tr>\n",
       "      <th>997</th>\n",
       "      <td>Shopee</td>\n",
       "      <td>SPX Express</td>\n",
       "      <td>SPXVN043318599284</td>\n",
       "      <td>15695234</td>\n",
       "      <td>SPECBB-240411FD1VHHDU</td>\n",
       "      <td>SPECBB-240411FD1VHHDU</td>\n",
       "      <td>https://files.onpoint.vn/order/2024/04/11/4993...</td>\n",
       "    </tr>\n",
       "    <tr>\n",
       "      <th>998</th>\n",
       "      <td>Shopee</td>\n",
       "      <td>Giao Hàng Nhanh</td>\n",
       "      <td>G8DTDPWU</td>\n",
       "      <td>15695233</td>\n",
       "      <td>SPEJNJ-240411FD1E7V87</td>\n",
       "      <td>SPEJNJ-240411FD1E7V87</td>\n",
       "      <td>https://files.onpoint.vn/order/2024/04/11/3749...</td>\n",
       "    </tr>\n",
       "    <tr>\n",
       "      <th>999</th>\n",
       "      <td>Shopee</td>\n",
       "      <td>SPX Express</td>\n",
       "      <td>SPXVN045150299024</td>\n",
       "      <td>15695230</td>\n",
       "      <td>SPECBB-240411FD1008CC</td>\n",
       "      <td>SPECBB-240411FD1008CC</td>\n",
       "      <td>https://files.onpoint.vn/order/2024/04/11/7854...</td>\n",
       "    </tr>\n",
       "  </tbody>\n",
       "</table>\n",
       "<p>1000 rows × 7 columns</p>\n",
       "</div>"
      ],
      "text/plain": [
       "    platform_name delivery_platform delivery_tracking_number  order_id  \\\n",
       "0          Shopee   Giao Hàng Nhanh                 G8PG68DW  16033053   \n",
       "1          Shopee       SPX Express        SPXVN047044006034  16032662   \n",
       "2          Shopee   Giao Hàng Nhanh                 G8PG9QNK  16032417   \n",
       "3          Shopee   Giao Hàng Nhanh                 G8PG9PX4  16032195   \n",
       "4          Shopee   Giao Hàng Nhanh                 G8PG7HWG  16031437   \n",
       "..            ...               ...                      ...       ...   \n",
       "995        Shopee   Giao Hàng Nhanh                 G8DTBU3T  15695256   \n",
       "996        Shopee       SPX Express        SPXVN041469733864  15695249   \n",
       "997        Shopee       SPX Express        SPXVN043318599284  15695234   \n",
       "998        Shopee   Giao Hàng Nhanh                 G8DTDPWU  15695233   \n",
       "999        Shopee       SPX Express        SPXVN045150299024  15695230   \n",
       "\n",
       "                  order_no      external_order_no  \\\n",
       "0    SPEJNJ-240423GDTCSH56  SPEJNJ-240423GDTCSH56   \n",
       "1    SPEJNJ-240423GBDEC0XM  SPEJNJ-240423GBDEC0XM   \n",
       "2    SPECSC-240423GA23PYAJ  SPECSC-240423GA23PYAJ   \n",
       "3    SPECSC-240423G92X6K4G  SPECSC-240423G92X6K4G   \n",
       "4    SPEUIM-240423G697MDT4  SPEUIM-240423G697MDT4   \n",
       "..                     ...                    ...   \n",
       "995  SPESDP-240411FD6M6KUT  SPESDP-240411FD6M6KUT   \n",
       "996  SPEBRT-240411FD598RCG  SPEBRT-240411FD598RCG   \n",
       "997  SPECBB-240411FD1VHHDU  SPECBB-240411FD1VHHDU   \n",
       "998  SPEJNJ-240411FD1E7V87  SPEJNJ-240411FD1E7V87   \n",
       "999  SPECBB-240411FD1008CC  SPECBB-240411FD1008CC   \n",
       "\n",
       "                                        shipping_label  \n",
       "0    https://files.onpoint.vn/order/2024/04/23/8667...  \n",
       "1    https://files.onpoint.vn/order/2024/04/23/1869...  \n",
       "2    https://files.onpoint.vn/order/2024/04/23/5646...  \n",
       "3    https://files.onpoint.vn/order/2024/04/23/8805...  \n",
       "4    https://files.onpoint.vn/order/2024/04/23/1101...  \n",
       "..                                                 ...  \n",
       "995  https://files.onpoint.vn/order/2024/04/11/4516...  \n",
       "996  https://files.onpoint.vn/order/2024/04/11/2137...  \n",
       "997  https://files.onpoint.vn/order/2024/04/11/4993...  \n",
       "998  https://files.onpoint.vn/order/2024/04/11/3749...  \n",
       "999  https://files.onpoint.vn/order/2024/04/11/7854...  \n",
       "\n",
       "[1000 rows x 7 columns]"
      ]
     },
     "execution_count": 5,
     "metadata": {},
     "output_type": "execute_result"
    }
   ],
   "source": [
    "df = pd.read_csv(file_path)\n",
    "df_0 = df.drop(['inserted_at'], axis = 1)\n",
    "df_0"
   ]
  },
  {
   "cell_type": "code",
   "execution_count": 6,
   "metadata": {},
   "outputs": [],
   "source": [
    "order_id_items = []\n",
    "items = list(df_0['order_no'])\n",
    "for item in items:\n",
    "    order_item = item.split('-')[-1]\n",
    "    order_id_items.append(order_item)"
   ]
  },
  {
   "cell_type": "code",
   "execution_count": 7,
   "metadata": {},
   "outputs": [
    {
     "data": {
      "text/plain": [
       "platform_name               1000\n",
       "delivery_platform           1000\n",
       "delivery_tracking_number    1000\n",
       "order_id                    1000\n",
       "order_no                    1000\n",
       "external_order_no           1000\n",
       "shipping_label              1000\n",
       "dtype: int64"
      ]
     },
     "execution_count": 7,
     "metadata": {},
     "output_type": "execute_result"
    }
   ],
   "source": [
    "df_0.count()"
   ]
  },
  {
   "cell_type": "code",
   "execution_count": 8,
   "metadata": {},
   "outputs": [],
   "source": [
    "file_list = list(df['shipping_label'])"
   ]
  },
  {
   "cell_type": "code",
   "execution_count": 9,
   "metadata": {},
   "outputs": [],
   "source": [
    "df_1 = pd.DataFrame(list(zip(order_id_items, file_list)), columns=['order_id', 'file_url'])\n",
    "dict_1 = df_1.to_dict(orient='records')\n",
    "dict_2 = {x['file_url'].split('/')[-1]:x['order_id'] for x in dict_1}\n",
    "dict_3 = {x['file_url'].split('/')[-1]:x['file_url'] for x in dict_1}\n"
   ]
  },
  {
   "cell_type": "markdown",
   "metadata": {},
   "source": [
    "# Download PDFs from list of URLs"
   ]
  },
  {
   "cell_type": "code",
   "execution_count": 10,
   "metadata": {},
   "outputs": [
    {
     "name": "stdout",
     "output_type": "stream",
     "text": [
      "Downloading progess: 1000/1000 - 100.0%\n",
      "Download time: 0:05:23.157668\n",
      "Memory Use: 0.1083831787109375 Gb\n",
      "CPU Use: <bound method Process.cpu_percent of psutil.Process(pid=39243, name='Python', status='running', started='10:56:33')>\n"
     ]
    }
   ],
   "source": [
    "start = timeit.default_timer()\n",
    "count = 0\n",
    "for file in file_list:\n",
    "    file_name = file.split('/')[-1]\n",
    "    day = file.split('/')[6]\n",
    "    month = file.split('/')[5]\n",
    "    year = file.split('/')[4]\n",
    "    response = requests.get(file)\n",
    "    path = Path(f'/Users/mac/Documents/Documents - Minh Nguyen/GitHub/PDF-Label-Parsing-with-PyMuPDF/Shopee/{year}/{month}/{day}')\n",
    "    path.mkdir(parents=True, exist_ok=True)\n",
    "    with open(f'/Users/mac/Documents/Documents - Minh Nguyen/GitHub/PDF-Label-Parsing-with-PyMuPDF/Shopee/{year}/{month}/{day}/' + file_name, 'wb') as f:\n",
    "      clear_output()\n",
    "      count = count + 1\n",
    "      f.write(response.content)\n",
    "      print(f'Downloading progess: {count}/{len(file_list)} - {count*100.0/len(file_list)}%')    \n",
    "stop = timeit.default_timer()\n",
    "runtime = str(datetime.timedelta(seconds=(stop - start)))\n",
    "print('Download time:', runtime)\n",
    "\n",
    "#Resource Monitor\n",
    "pid = os.getpid()\n",
    "python_process = psutil.Process(pid)\n",
    "memory_use = python_process.memory_info()[0]/2.**30\n",
    "cpu_use = python_process.cpu_percent\n",
    "print('Memory Use:', memory_use, 'Gb')\n",
    "print('CPU Use:', cpu_use)"
   ]
  },
  {
   "cell_type": "markdown",
   "metadata": {},
   "source": [
    "# Extract Data from PDFs"
   ]
  },
  {
   "cell_type": "code",
   "execution_count": 11,
   "metadata": {},
   "outputs": [
    {
     "name": "stdout",
     "output_type": "stream",
     "text": [
      "Processing progess: 1000/1000 - 100.0%\n",
      "Extract time: 0:00:49.875614\n",
      "Memory Use: 0.1511993408203125 Gb\n",
      "CPU Use: <bound method Process.cpu_percent of psutil.Process(pid=39243, name='Python', status='running', started='10:56:33')>\n"
     ]
    }
   ],
   "source": [
    "start = timeit.default_timer()\n",
    "result = []\n",
    "count = 0\n",
    "for year in os.listdir(Path(f'/Users/mac/Documents/Documents - Minh Nguyen/GitHub/PDF-Label-Parsing-with-PyMuPDF/Shopee/')):\n",
    "  for month in os.listdir(Path(f'/Users/mac/Documents/Documents - Minh Nguyen/GitHub/PDF-Label-Parsing-with-PyMuPDF/Shopee/{year}')):\n",
    "    for day in os.listdir(Path(f'/Users/mac/Documents/Documents - Minh Nguyen/GitHub/PDF-Label-Parsing-with-PyMuPDF/Shopee/{year}/{month}')):\n",
    "      for file_name in os.listdir(Path(f'/Users/mac/Documents/Documents - Minh Nguyen/GitHub/PDF-Label-Parsing-with-PyMuPDF/Shopee/{year}/{month}/{day}')):\n",
    "        clear_output()\n",
    "        count = count + 1\n",
    "        print(f'Processing progess: {count}/{len(file_list)} - {count*100.0/len(file_list)}%')\n",
    "\n",
    "        file_result = {'Billing_date': f'{day}/{month}/{year}', 'order_id':dict_2[file_name]}\n",
    "        with pymupdf.open(f'/Users/mac/Documents/Documents - Minh Nguyen/GitHub/PDF-Label-Parsing-with-PyMuPDF/Shopee/{year}/{month}/{day}/{file_name}') as doc:\n",
    "          cells = []\n",
    "          for page in doc:\n",
    "            for table in page.find_tables().tables:\n",
    "              for tb in table.extract(strategy=\"lines_strict\"):\n",
    "                for cell in list(filter(lambda x: x and x != \"\", tb)):\n",
    "                  cells.append(cell)\n",
    "\n",
    "        for cell in cells:\n",
    "          file_result['file_url'] = dict_3[file_name]\n",
    "          if 'Mã đơn hàng:' in cell:\n",
    "            file_result['OrderID'] = cell.split(': ')[-1]\n",
    "          if \"Đến:\" in cell:\n",
    "            receiver = cell.split('\\n')\n",
    "            match_phone_no = re.search(r\"[^a-z A-Z,]+\", receiver[2]).group()\n",
    "            if receiver[2] == match_phone_no:\n",
    "              file_result['phone_number'] = match_phone_no\n",
    "              receiver_address = \" \".join(receiver[3:]).split(\", \")\n",
    "            else:\n",
    "              file_result['phone_number'] = '-'\n",
    "              receiver_address = \" \".join(receiver[2:]).split(\", \")\n",
    "            file_result['receiver_name'] = receiver[1]\n",
    "            file_result['receiver_address'] = {\n",
    "                'street': ', '.join(receiver_address[0:-3]),\n",
    "                'ward': receiver_address[-3],\n",
    "                'district': receiver_address[-2],\n",
    "                'city': receiver_address[-1]\n",
    "            }\n",
    "        result.append(file_result)\n",
    "\n",
    "stop = timeit.default_timer()\n",
    "extract_runtime = str(datetime.timedelta(seconds=(stop - start)))\n",
    "print('Extract time:', extract_runtime)\n",
    "\n",
    "#Resource Monitor\n",
    "pid = os.getpid()\n",
    "python_process = psutil.Process(pid)\n",
    "memory_use = python_process.memory_info()[0]/2.**30\n",
    "cpu_use = python_process.cpu_percent\n",
    "print('Memory Use:', memory_use, 'Gb')\n",
    "print('CPU Use:', cpu_use)"
   ]
  },
  {
   "cell_type": "markdown",
   "metadata": {},
   "source": [
    "# Export raw data to JSON"
   ]
  },
  {
   "cell_type": "code",
   "execution_count": null,
   "metadata": {},
   "outputs": [],
   "source": [
    "raw_data = json.dumps(result, indent = 2)\n",
    "with open('raw_data.json', 'w', encoding ='utf-8') as f:\n",
    "    f.write(raw_data)"
   ]
  },
  {
   "cell_type": "markdown",
   "metadata": {},
   "source": [
    "# Transform Data"
   ]
  },
  {
   "cell_type": "code",
   "execution_count": null,
   "metadata": {},
   "outputs": [],
   "source": [
    "try:\n",
    "    monitor_time = str(datetime.datetime.now())\n",
    "    created_at = str(datetime.datetime.now())\n",
    "    updated_at = str(datetime.datetime.now())\n",
    "    platform = 'SHOPEE'\n",
    "    final = []\n",
    "    f = open('/Users/mac/Documents/Documents - Minh Nguyen/GitHub/PDF-Label-Parsing-with-PyMuPDF/raw_data.json')\n",
    "    records = json.load(f)\n",
    "    for record in records:\n",
    "        record = {\n",
    "            'order_id': record.get('order_id'),\n",
    "            'label_order_id': record.get('OrderID'),\n",
    "            'platform': platform,\n",
    "            'file_url': record.get('file_url'),\n",
    "            'billing_date': record.get('Billing_date'),\n",
    "            'receiver_name' : record.get('receiver_name'),\n",
    "            'phone_number': record.get('phone_number'),\n",
    "            'street_name': record.get('receiver_address').get('street'),\n",
    "            'ward': record.get('receiver_address').get('ward'),\n",
    "            'district': record.get('receiver_address').get('district'),\n",
    "            'city': record.get('receiver_address').get('city'),\n",
    "            'monitor_time' : monitor_time,\n",
    "            'created_at': created_at,\n",
    "            'updated_at': updated_at\n",
    "        }\n",
    "        final.append(record)\n",
    "except Exception as e:\n",
    "    logging.exception(e)"
   ]
  },
  {
   "cell_type": "markdown",
   "metadata": {},
   "source": [
    "# Export transformed data to JSON"
   ]
  },
  {
   "cell_type": "code",
   "execution_count": null,
   "metadata": {},
   "outputs": [],
   "source": [
    "raw_data = json.dumps(final, indent = 2)\n",
    "with open('final.json', 'w', encoding ='utf-8') as f:\n",
    "    f.write(raw_data)"
   ]
  },
  {
   "cell_type": "code",
   "execution_count": null,
   "metadata": {},
   "outputs": [],
   "source": [
    "df_final = pd.DataFrame(final)\n",
    "df_final"
   ]
  },
  {
   "cell_type": "markdown",
   "metadata": {},
   "source": [
    "# Load into DB"
   ]
  },
  {
   "cell_type": "code",
   "execution_count": null,
   "metadata": {},
   "outputs": [],
   "source": [

    "conn = psycopg2.connect(database=DB_NAME,\n",
    "                        user=DB_USER,\n",
    "                        password=DB_PASS,\n",
    "                        host=DB_HOST,\n",
    "                        port=DB_PORT)\n",
    "\n",
    "print('Successfully connect to database!')\n",
    "\n",
    "start_time = time.time()\n",
    "sio = StringIO()\n",
    "df_final.to_csv(sio, index=None, header=None)\n",
    "sio.seek(0)\n",
    "with conn.cursor() as c:\n",
    "    c.copy_expert(\n",
    "        sql=\"\"\"\n",
    "        DELETE FROM athena_warehouse.spe_shipping_label_address_parse;\n",
    "\n",
    "        COPY athena_warehouse.spe_shipping_label_address_parse (\n",
    "            order_id,\n",
    "            label_order_id,\n",
    "            platform,\n",
    "            file_url,\n",
    "\t        billing_date,\n",
    "\t        receiver_name,\n",
    "            phone_number,\n",
    "\t        street_name,\n",
    "\t        ward,\n",
    "\t        district,\n",
    "\t        city,\n",
    "\t        monitor_time,\n",
    "\t        created_at,\n",
    "\t        updated_at\n",
    "            ) FROM STDIN WITH CSV\"\"\",\n",
    "        file=sio\n",
    "    )\n",
    "    conn.commit()\n",
    "\n",
    "end_time = time.time()\n",
    "total_time = end_time - start_time\n",
    "print(f\"Insert time: {total_time} seconds\")"
   ]
  }
 ],
 "metadata": {
  "kernelspec": {
   "display_name": ".venv",
   "language": "python",
   "name": "python3"
  },
  "language_info": {
   "codemirror_mode": {
    "name": "ipython",
    "version": 3
   },
   "file_extension": ".py",
   "mimetype": "text/x-python",
   "name": "python",
   "nbconvert_exporter": "python",
   "pygments_lexer": "ipython3",
   "version": "3.13.0"
  }
 },
 "nbformat": 4,
 "nbformat_minor": 2
}
